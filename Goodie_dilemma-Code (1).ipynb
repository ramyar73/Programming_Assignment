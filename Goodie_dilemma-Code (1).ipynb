{
 "cells": [
  {
   "cell_type": "code",
   "execution_count": 1,
   "metadata": {},
   "outputs": [],
   "source": [
    "GoodiesandPrices = {\n",
    "    \"Fitbit Plus\": 7980,\n",
    "    \"IPods\": 22349,\n",
    "    \"MI Band\": 999,\n",
    "    \"Cult Pass\": 2799,\n",
    "    \"Macbook Pro\": 229900,\n",
    "    \"Digital Camera\": 11101,\n",
    "    \"Alexa\": 9999,\n",
    "    \"Sandwich Toaster\": 2195,\n",
    "    \"Microwave Oven\": 9800,\n",
    "    \"Scale\": 4999\n",
    "} "
   ]
  },
  {
   "cell_type": "code",
   "execution_count": 2,
   "metadata": {},
   "outputs": [],
   "source": [
    "sorted = {x: y for x, y in sorted(GoodiesandPrices.items(), key=lambda item: item[1])}\n",
    "listt = zip(sorted.keys(), sorted.values()) \n",
    "listt = list(listt) \n",
    "# print(listt)"
   ]
  },
  {
   "cell_type": "code",
   "execution_count": 3,
   "metadata": {},
   "outputs": [
    {
     "name": "stdout",
     "output_type": "stream",
     "text": [
      "\n",
      "\n",
      "\n"
     ]
    }
   ],
   "source": [
    "numOfEmployees = 2 # Changing the number of Employees here\n",
    "index = 0\n",
    "difference = listt[numOfEmployees-1][1] - listt[0][1]\n",
    "i = 1\n",
    "while(i < len(listt) - numOfEmployees+1):\n",
    "    if listt[i+numOfEmployees-1][1] - listt[i][1] < difference:\n",
    "        index = i\n",
    "        difference = listt[i+numOfEmployees-1][1] - listt[i][1]\n",
    "    i += 1\n",
    "destFile=open('output.txt','w')\n",
    "print('Number of employees: ',numOfEmployees,file=destFile)\n",
    "\n",
    "# print('difference', difference)\n",
    "print('\\nHere the goodies that are selected for distribution are: \\t',file=destFile)\n",
    "j = 0\n",
    "while(j < numOfEmployees):\n",
    "    print(listt[index+j][0]+':', listt[index+j][1],file=destFile)\n",
    "    j += 1\n",
    "print()\n",
    "print('And the difference between the chosen goodie with highest price and the lowest price is ',difference, file=destFile)\n",
    "print('\\n')"
   ]
  },
  {
   "cell_type": "code",
   "execution_count": 4,
   "metadata": {},
   "outputs": [
    {
     "name": "stdout",
     "output_type": "stream",
     "text": [
      "\n",
      "\n",
      "\n"
     ]
    }
   ],
   "source": [
    "numOfEmployees = 4 # Changing the number of Employees here\n",
    "index = 0\n",
    "difference = listt[numOfEmployees-1][1] - listt[0][1]\n",
    "i = 1\n",
    "while(i < len(listt) - numOfEmployees+1):\n",
    "    if listt[i+numOfEmployees-1][1] - listt[i][1] < difference:\n",
    "        index = i\n",
    "        difference = listt[i+numOfEmployees-1][1] - listt[i][1]\n",
    "    i += 1\n",
    "print('\\n\\nNumber of employees: ',numOfEmployees,file=destFile)\n",
    "\n",
    "# print('difference', difference)\n",
    "print('\\nHere the goodies that are selected for distribution are: \\t',file=destFile)\n",
    "j = 0\n",
    "while(j < numOfEmployees):\n",
    "    print(listt[index+j][0]+':', listt[index+j][1],file=destFile)\n",
    "    j += 1\n",
    "print()\n",
    "print('And the difference between the chosen goodie with highest price and the lowest price is ',difference, file=destFile)\n",
    "print('\\n')"
   ]
  },
  {
   "cell_type": "code",
   "execution_count": 5,
   "metadata": {},
   "outputs": [
    {
     "name": "stdout",
     "output_type": "stream",
     "text": [
      "\n",
      "\n",
      "\n"
     ]
    }
   ],
   "source": [
    "numOfEmployees = 6 # Changing the number of Employees here\n",
    "index = 0\n",
    "difference = listt[numOfEmployees-1][1] - listt[0][1]\n",
    "i = 1\n",
    "while(i < len(listt) - numOfEmployees+1):\n",
    "    if listt[i+numOfEmployees-1][1] - listt[i][1] < difference:\n",
    "        index = i\n",
    "        difference = listt[i+numOfEmployees-1][1] - listt[i][1]\n",
    "    i += 1\n",
    "print('\\n\\nNumber of employees: ',numOfEmployees,file=destFile)\n",
    "\n",
    "# print('difference', difference)\n",
    "print('\\nHere the goodies that are selected for distribution are: \\t',file=destFile)\n",
    "j = 0\n",
    "while(j < numOfEmployees):\n",
    "    print(listt[index+j][0]+':', listt[index+j][1],file=destFile)\n",
    "    j += 1\n",
    "print()\n",
    "print('And the difference between the chosen goodie with highest price and the lowest price is ',difference, file=destFile)\n",
    "print('\\n')"
   ]
  },
  {
   "cell_type": "code",
   "execution_count": 6,
   "metadata": {},
   "outputs": [
    {
     "name": "stdout",
     "output_type": "stream",
     "text": [
      "\n",
      "\n",
      "\n"
     ]
    }
   ],
   "source": [
    "numOfEmployees = 8 # Changing the number of Employees here\n",
    "index = 0\n",
    "difference = listt[numOfEmployees-1][1] - listt[0][1]\n",
    "i = 1\n",
    "while(i < len(listt) - numOfEmployees+1):\n",
    "    if listt[i+numOfEmployees-1][1] - listt[i][1] < difference:\n",
    "        index = i\n",
    "        difference = listt[i+numOfEmployees-1][1] - listt[i][1]\n",
    "    i += 1\n",
    "print('\\n\\nNumber of employees: ',numOfEmployees,file=destFile)\n",
    "\n",
    "# print('difference', difference)\n",
    "print('\\nHere the goodies that are selected for distribution are: \\t',file=destFile)\n",
    "j = 0\n",
    "while(j < numOfEmployees):\n",
    "    print(listt[index+j][0]+':', listt[index+j][1],file=destFile)\n",
    "    j += 1\n",
    "print()\n",
    "print('And the difference between the chosen goodie with highest price and the lowest price is ',difference, file=destFile)\n",
    "print('\\n')"
   ]
  },
  {
   "cell_type": "code",
   "execution_count": 7,
   "metadata": {},
   "outputs": [
    {
     "name": "stdout",
     "output_type": "stream",
     "text": [
      "\n",
      "\n",
      "\n"
     ]
    }
   ],
   "source": [
    "numOfEmployees = 10# Changing the number of Employees here\n",
    "index = 0\n",
    "difference = listt[numOfEmployees-1][1] - listt[0][1]\n",
    "i = 1\n",
    "while(i < len(listt) - numOfEmployees+1):\n",
    "    if listt[i+numOfEmployees-1][1] - listt[i][1] < difference:\n",
    "        index = i\n",
    "        difference = listt[i+numOfEmployees-1][1] - listt[i][1]\n",
    "    i += 1\n",
    "print('\\n\\nNumber of employees: ',numOfEmployees,file=destFile)\n",
    "\n",
    "# print('difference', difference)\n",
    "print('\\nHere the goodies that are selected for distribution are: \\t',file=destFile)\n",
    "j = 0\n",
    "while(j < numOfEmployees):\n",
    "    print(listt[index+j][0]+':', listt[index+j][1],file=destFile)\n",
    "    j += 1\n",
    "print()\n",
    "print('And the difference between the chosen goodie with highest price and the lowest price is ',difference, file=destFile)\n",
    "print('\\n')\n",
    "destFile.close()"
   ]
  }
 ],
 "metadata": {
  "kernelspec": {
   "display_name": "Python 3",
   "language": "python",
   "name": "python3"
  },
  "language_info": {
   "codemirror_mode": {
    "name": "ipython",
    "version": 3
   },
   "file_extension": ".py",
   "mimetype": "text/x-python",
   "name": "python",
   "nbconvert_exporter": "python",
   "pygments_lexer": "ipython3",
   "version": "3.7.6"
  }
 },
 "nbformat": 4,
 "nbformat_minor": 4
}
